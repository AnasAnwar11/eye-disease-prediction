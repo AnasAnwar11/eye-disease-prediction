{
 "cells": [
  {
   "cell_type": "code",
   "execution_count": 1,
   "id": "4f004606",
   "metadata": {},
   "outputs": [],
   "source": [
    "import os\n",
    "import cv2\n",
    "import numpy as np\n",
    "from scipy import ndimage as nd\n",
    "import pandas as pd\n",
    "import pickle\n",
    "from skimage.filters import sobel\n",
    "from skimage import feature\n",
    "from matplotlib import pyplot as plt\n",
    "from sklearn import metrics"
   ]
  },
  {
   "cell_type": "code",
   "execution_count": 2,
   "id": "6072110f",
   "metadata": {},
   "outputs": [],
   "source": [
    "X = list()\n",
    "Y = list()\n",
    "\n",
    "read_directory = \"Glaucoma_CLAHE\\Glaucoma_Positive\"\n",
    "\n",
    "for file in os.listdir(read_directory):\n",
    "    f_read = os.path.join(read_directory, file)\n",
    "    \n",
    "    img = cv2.imread(f_read, 0)\n",
    "    sobel_img = sobel(img)\n",
    "    flat_img = img.flatten()\n",
    "    sobel_flat_img = sobel_img.flatten()\n",
    "    flat_img = np.append(flat_img, sobel_flat_img)\n",
    "    X.append(flat_img)\n",
    "    Y.append(1)    # Glaucoma Positive: 1\n",
    "    \n",
    "read_directory = \"DR_CLAHE\\DR_Positive\"\n",
    "\n",
    "for file in os.listdir(read_directory):\n",
    "    f_read = os.path.join(read_directory, file)\n",
    "    \n",
    "    img = cv2.imread(f_read, 0)\n",
    "    sobel_img = sobel(img)\n",
    "    flat_img = img.flatten()\n",
    "    sobel_flat_img = sobel_img.flatten()\n",
    "    flat_img = np.append(flat_img, sobel_flat_img)\n",
    "    X.append(flat_img)\n",
    "    Y.append(2)    # DR Positive: 2\n",
    "    \n",
    "    \n",
    "read_directory = \"DR_CLAHE\\DR_Negative\"\n",
    "\n",
    "for file in os.listdir(read_directory):\n",
    "    f_read = os.path.join(read_directory, file)\n",
    "    \n",
    "    img = cv2.imread(f_read, 0)\n",
    "    sobel_img = sobel(img)\n",
    "    flat_img = img.flatten()\n",
    "    sobel_flat_img = sobel_img.flatten()\n",
    "    flat_img = np.append(flat_img, sobel_flat_img)\n",
    "    X.append(flat_img)\n",
    "    Y.append(0)    # Both Negative: 0\n",
    "    \n",
    "\n",
    "read_directory = \"Glaucoma_CLAHE\\Glaucoma_Negative\"\n",
    "\n",
    "for file in os.listdir(read_directory):\n",
    "    f_read = os.path.join(read_directory, file)\n",
    "    \n",
    "    img = cv2.imread(f_read, 0)\n",
    "    sobel_img = sobel(img)\n",
    "    flat_img = img.flatten()\n",
    "    sobel_flat_img = sobel_img.flatten()\n",
    "    flat_img = np.append(flat_img, sobel_flat_img)\n",
    "    X.append(flat_img)\n",
    "    Y.append(0)    # Both Negative: 0\n",
    "    \n",
    "X = np.array(X)\n",
    "Y = np.array(Y)"
   ]
  },
  {
   "cell_type": "code",
   "execution_count": 3,
   "id": "1ea331ba",
   "metadata": {},
   "outputs": [
    {
     "name": "stdout",
     "output_type": "stream",
     "text": [
      "(504, 100352)\n",
      "Total: 504\n",
      "[168 168 168]\n"
     ]
    }
   ],
   "source": [
    "print(X.shape)\n",
    "\n",
    "print('Total:', len(Y))\n",
    "\n",
    "print(np.bincount(Y))"
   ]
  },
  {
   "cell_type": "code",
   "execution_count": 4,
   "id": "a60eab33",
   "metadata": {},
   "outputs": [],
   "source": [
    "from sklearn.utils import shuffle\n",
    "from sklearn.model_selection import train_test_split\n",
    "\n",
    "X, Y = shuffle(X, Y)\n",
    "\n",
    "X_train, X_test, y_train, y_test = train_test_split(X, Y, test_size=0.3, random_state=10)"
   ]
  },
  {
   "cell_type": "code",
   "execution_count": 5,
   "id": "3410ab10",
   "metadata": {},
   "outputs": [
    {
     "name": "stdout",
     "output_type": "stream",
     "text": [
      "Random Forest Accuracy: 0.6381578947368421\n"
     ]
    }
   ],
   "source": [
    "from sklearn.ensemble import RandomForestClassifier\n",
    "\n",
    "model_RF = RandomForestClassifier()\n",
    "\n",
    "model_RF.fit(X_train, y_train.ravel())\n",
    "\n",
    "# save the model to disk\n",
    "filename = 'model_RF_Task1.sav'\n",
    "pickle.dump(model_RF, open(filename, 'wb'))\n",
    "\n",
    "predictions_RF = model_RF.predict(X_test)\n",
    "\n",
    "print(\"Random Forest Accuracy:\", metrics.accuracy_score(y_test, predictions_RF))"
   ]
  },
  {
   "cell_type": "code",
   "execution_count": 6,
   "id": "f8b4ec61",
   "metadata": {},
   "outputs": [
    {
     "name": "stdout",
     "output_type": "stream",
     "text": [
      "Logistic Regression Accuracy: 0.6842105263157895\n"
     ]
    }
   ],
   "source": [
    "from sklearn import linear_model\n",
    "\n",
    "model_LR = linear_model.LogisticRegression(solver='lbfgs', max_iter=2000)\n",
    "\n",
    "model_LR.fit(X_train, y_train)\n",
    "\n",
    "# save the model to disk\n",
    "filename = 'model_LR_Task1.sav'\n",
    "pickle.dump(model_LR, open(filename, 'wb'))\n",
    "\n",
    "predictions_LR = model_LR.predict(X_test)\n",
    "\n",
    "print(\"Logistic Regression Accuracy:\", metrics.accuracy_score(y_test, predictions_LR))"
   ]
  },
  {
   "cell_type": "code",
   "execution_count": 7,
   "id": "7276d3c6",
   "metadata": {},
   "outputs": [
    {
     "name": "stdout",
     "output_type": "stream",
     "text": [
      "SVM (one vs one) Accuracy: 0.6118421052631579\n"
     ]
    }
   ],
   "source": [
    "from sklearn import svm\n",
    "\n",
    "model_SVM = svm.SVC(decision_function_shape='ovo')\n",
    "# model_SVM = svm.LinearSVC()\n",
    "\n",
    "model_SVM.fit(X_train, y_train)\n",
    "\n",
    "# save the model to disk\n",
    "filename = 'model_SVM_Task1.sav'\n",
    "pickle.dump(model_SVM, open(filename, 'wb'))\n",
    "\n",
    "predictions_SVM = model_SVM.predict(X_test)\n",
    "\n",
    "print(\"SVM (one vs one) Accuracy:\", metrics.accuracy_score(y_test, predictions_SVM))"
   ]
  },
  {
   "cell_type": "code",
   "execution_count": 16,
   "id": "8d38c05b",
   "metadata": {},
   "outputs": [
    {
     "name": "stdout",
     "output_type": "stream",
     "text": [
      "Confusion matrix, without normalization\n",
      "[[ 8 23 26]\n",
      " [ 0 46  0]\n",
      " [ 6  0 43]]\n"
     ]
    },
    {
     "data": {
      "image/png": "[encoded data removed]",
      "text/plain": [
       "<Figure size 432x288 with 2 Axes>"
      ]
     },
     "metadata": {
      "needs_background": "light"
     },
     "output_type": "display_data"
    }
   ],
   "source": [
    "from sklearn.metrics import confusion_matrix, roc_curve, roc_auc_score, f1_score\n",
    "import itertools\n",
    "\n",
    "cm = confusion_matrix(y_true = y_test, y_pred=predictions_RF)\n",
    "\n",
    "def plot_confusion_matrix(cm, classes,\n",
    "                          normalize=False,\n",
    "                          title='Confusion matrix',\n",
    "                          cmap=plt.cm.Blues):\n",
    "    \"\"\"\n",
    "    This function prints and plots the confusion matrix.\n",
    "    Normalization can be applied by setting `normalize=True`.\n",
    "    \"\"\"\n",
    "    plt.imshow(cm, interpolation='nearest', cmap=cmap)\n",
    "    plt.title(title)\n",
    "    plt.colorbar()\n",
    "    tick_marks = np.arange(len(classes))\n",
    "    plt.xticks(tick_marks, classes, rotation=45)\n",
    "    plt.yticks(tick_marks, classes)\n",
    "\n",
    "    if normalize:\n",
    "        cm = cm.astype('float') / cm.sum(axis=1)[:, np.newaxis]\n",
    "        print(\"Normalized confusion matrix\")\n",
    "    else:\n",
    "        print('Confusion matrix, without normalization')\n",
    "\n",
    "    print(cm)\n",
    "\n",
    "    thresh = cm.max() / 2.\n",
    "    for i, j in itertools.product(range(cm.shape[0]), range(cm.shape[1])):\n",
    "        plt.text(j, i, cm[i, j],\n",
    "            horizontalalignment=\"center\",\n",
    "            color=\"white\" if cm[i, j] > thresh else \"black\")\n",
    "\n",
    "    plt.tight_layout()\n",
    "    plt.ylabel('True label')\n",
    "    plt.xlabel('Predicted label')\n",
    "    \n",
    "cm_plot_labels = ['Other', 'Glaucoma', 'Diabetic Retinopathy']\n",
    "plot_confusion_matrix(cm=cm, classes=cm_plot_labels, title='RF Confusion Matrix')"
   ]
  },
  {
   "cell_type": "code",
   "execution_count": 17,
   "id": "a25ba94a",
   "metadata": {},
   "outputs": [
    {
     "name": "stdout",
     "output_type": "stream",
     "text": [
      "Confusion matrix, without normalization\n",
      "[[ 6 25 26]\n",
      " [ 0 44  2]\n",
      " [ 5  1 43]]\n"
     ]
    },
    {
     "data": {
      "image/png": "[encoded data removed]",
      "text/plain": [
       "<Figure size 432x288 with 2 Axes>"
      ]
     },
     "metadata": {
      "needs_background": "light"
     },
     "output_type": "display_data"
    }
   ],
   "source": [
    "cm = confusion_matrix(y_true = y_test, y_pred=predictions_SVM)\n",
    "\n",
    "plot_confusion_matrix(cm=cm, classes=cm_plot_labels, title='SVM Confusion Matrix')"
   ]
  },
  {
   "cell_type": "code",
   "execution_count": 18,
   "id": "a800f66d",
   "metadata": {},
   "outputs": [
    {
     "name": "stdout",
     "output_type": "stream",
     "text": [
      "Confusion matrix, without normalization\n",
      "[[18 16 23]\n",
      " [ 4 42  0]\n",
      " [ 5  0 44]]\n"
     ]
    },
    {
     "data": {
      "image/png": "[encoded data removed]",
      "text/plain": [
       "<Figure size 432x288 with 2 Axes>"
      ]
     },
     "metadata": {
      "needs_background": "light"
     },
     "output_type": "display_data"
    }
   ],
   "source": [
    "cm = confusion_matrix(y_true = y_test, y_pred=predictions_LR)\n",
    "\n",
    "plot_confusion_matrix(cm=cm, classes=cm_plot_labels, title='LR Confusion Matrix')"
   ]
  },
  {
   "cell_type": "code",
   "execution_count": 13,
   "id": "ff8391f2",
   "metadata": {},
   "outputs": [
    {
     "name": "stdout",
     "output_type": "stream",
     "text": [
      "RF F1 score:  0.58472189066603\n"
     ]
    }
   ],
   "source": [
    "# print('RF AUC:', roc_auc_score(y_test, predictions_RF, multi_class='ovo'))\n",
    "\n",
    "print('RF F1 score: ', f1_score(y_test, predictions_RF, average='macro'))"
   ]
  },
  {
   "cell_type": "code",
   "execution_count": 14,
   "id": "dab6ab65",
   "metadata": {},
   "outputs": [
    {
     "name": "stdout",
     "output_type": "stream",
     "text": [
      "LR F1 score:  0.6649614753063028\n"
     ]
    }
   ],
   "source": [
    "# print('LR AUC:', roc_auc_score(y_test.flatten(), predictions_LR, multi_class='ovo'))\n",
    "\n",
    "print('LR F1 score: ', f1_score(y_test.flatten(), predictions_LR, average='macro'))"
   ]
  },
  {
   "cell_type": "code",
   "execution_count": 15,
   "id": "648940a8",
   "metadata": {},
   "outputs": [
    {
     "name": "stdout",
     "output_type": "stream",
     "text": [
      "SVM F1 score:  0.5505859815190444\n"
     ]
    }
   ],
   "source": [
    "# print('SVM AUC:', roc_auc_score(y_test.flatten(), predictions_SVM, multi_class='ovo'))\n",
    "\n",
    "print('SVM F1 score: ', f1_score(y_test.flatten(), predictions_SVM, average='macro'))"
   ]
  }
 ],
 "metadata": {
  "kernelspec": {
   "display_name": "Python 3",
   "language": "python",
   "name": "python3"
  },
  "language_info": {
   "codemirror_mode": {
    "name": "ipython",
    "version": 3
   },
   "file_extension": ".py",
   "mimetype": "text/x-python",
   "name": "python",
   "nbconvert_exporter": "python",
   "pygments_lexer": "ipython3",
   "version": "3.8.8"
  }
 },
 "nbformat": 4,
 "nbformat_minor": 5
}
